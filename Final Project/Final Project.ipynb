{
 "cells": [
  {
   "cell_type": "code",
   "execution_count": 3,
   "metadata": {},
   "outputs": [],
   "source": [
    "import pandas as pd"
   ]
  },
  {
   "cell_type": "code",
   "execution_count": null,
   "metadata": {},
   "outputs": [],
   "source": [
    "data = pd.read_csv(\"E:\\Python\\Datasets\\Data Analysis Internship\\Covid-19 Final project Details\\kaggle data\\data.csv\")"
   ]
  },
  {
   "cell_type": "code",
   "execution_count": null,
   "metadata": {},
   "outputs": [],
   "source": [
    "data.head()"
   ]
  },
  {
   "cell_type": "code",
   "execution_count": null,
   "metadata": {},
   "outputs": [],
   "source": [
    "import seaborn as sns\n",
    "import numpy as np\n",
    "import matplotlib.pyplot as plt"
   ]
  },
  {
   "cell_type": "code",
   "execution_count": null,
   "metadata": {},
   "outputs": [],
   "source": [
    "with sns.axes_style('white'):\n",
    "    g = sns.factorplot(y =\"detected_state\", data=data, aspect=1.5,\n",
    "                       kind=\"count\", color='red', height=8, hue='gender')\n",
    "    g.set_xticklabels(step=1)\n",
    "plt.figure(figsize=(16,6))"
   ]
  },
  {
   "cell_type": "code",
   "execution_count": null,
   "metadata": {},
   "outputs": [],
   "source": [
    "from datetime import date\n",
    "data['diagnosed_date'] = pd.to_datetime(data['diagnosed_date']).dt.strftime(\"%Y%m%d\")\n",
    "data['status_change_date'] = pd.to_datetime(data['status_change_date']).dt.strftime(\"%Y%m%d\")\n",
    "x = (data['diagnosed_date'])\n",
    "x\n",
    "y = (data['status_change_date'])"
   ]
  },
  {
   "cell_type": "code",
   "execution_count": null,
   "metadata": {},
   "outputs": [],
   "source": [
    "age = data.loc[(data.age >= 91.0) & (data.age<=100.0), ['id']]\n",
    "age.count()\n",
    "age_grp = pd.DataFrame([14,23,129,94,66,74,58,9,4,1],\n",
    "                       index = ['0-10','10-20','20-30','30-40','40-50','50-60','60-70','70-80','80-90','90-100'],\n",
    "                      columns = ['cases'])\n",
    "age_grp"
   ]
  },
  {
   "cell_type": "code",
   "execution_count": null,
   "metadata": {},
   "outputs": [],
   "source": [
    "df = pd.DataFrame([14,44,129,94,66,74,58,9,4,1], index=['0-10', '11-20', '21-30', '31-40', '41-50'\n",
    ", '51-60', '61-70', '71-80', '81-90', '91-100'], columns=['x'])\n",
    "df.plot(kind=\"pie\", subplots=True, figsize=(8,8))"
   ]
  },
  {
   "cell_type": "code",
   "execution_count": null,
   "metadata": {},
   "outputs": [],
   "source": [
    "x = data.groupby('current_status').count()\n",
    "first =data.loc[data.current_status=='Deceased',['id']]\n",
    "y = first.count()\n",
    "y"
   ]
  },
  {
   "cell_type": "code",
   "execution_count": null,
   "metadata": {},
   "outputs": [],
   "source": [
    "Male = (data['current_status'] == 'Deceased') & (data['gender'] == 'Female')\n",
    "Male = len(data.loc[Male])\n",
    "Male\n",
    "\n",
    "\n",
    "df = pd.DataFrame([18,31,975], index=['Deceased', 'Recovered', 'Hospitalized'], columns=['x'])\n",
    " \n",
    "# make the plot\n",
    "df.plot(kind='pie', subplots=True, figsize=(8, 8))"
   ]
  },
  {
   "cell_type": "code",
   "execution_count": null,
   "metadata": {},
   "outputs": [],
   "source": [
    "School = (data['diagnosed_date'] > '2020-01-30') & (data['diagnosed_date'] <= '2020-03-08') \n",
    "School = len(data.loc[School])\n",
    "Public = (data['diagnosed_date'] > '2020-01-30') & (data['diagnosed_date'] <= '2020-03-12')\n",
    "Public = len(data.loc[Public])\n",
    "WFH = (data['diagnosed_date'] > '2020-01-30') & (data['diagnosed_date'] <= '2020-03-15')\n",
    "WFH = len(data.loc[WFH])\n",
    "Lockdown = (data['diagnosed_date'] > '2020-01-30') & (data['diagnosed_date'] <= '2020-03-28') \n",
    "Lockdown = len(data.loc[Lockdown])"
   ]
  },
  {
   "cell_type": "code",
   "execution_count": null,
   "metadata": {},
   "outputs": [],
   "source": [
    "CaseCount = [School,Public,WFH,Lockdown]\n",
    "labels = ['schools shutdown','public places shutdown',\n",
    "            'work from home started','country under lockdown']\n",
    "dates = ['2020-03-09','2020-03-13','2020-03-15','2020-03-28']"
   ]
  },
  {
   "cell_type": "code",
   "execution_count": null,
   "metadata": {},
   "outputs": [],
   "source": [
    "plot = pd.DataFrame({'dates':dates,'Labels': labels, 'CaseCount': CaseCount})\n",
    "plot"
   ]
  },
  {
   "cell_type": "code",
   "execution_count": null,
   "metadata": {},
   "outputs": [],
   "source": [
    "with sns.axes_style('white'):\n",
    "    g = sns.factorplot(y =\"dates\", x = CaseCount, data=plot, aspect=1, color='blue', height=5, hue='Labels')\n",
    "    g.set_xticklabels(step=1)"
   ]
  },
  {
   "cell_type": "code",
   "execution_count": null,
   "metadata": {},
   "outputs": [],
   "source": [
    "data['diagnosed_date'] = pd.to_datetime(data['diagnosed_date'])\n",
    "data['status_change_date'] = pd.to_datetime(data['status_change_date'])\n",
    "data['days'] = data['diagnosed_date'] - data['status_change_date']\n",
    "Male = (data['current_status'] == 'Recovered')\n",
    "first = (data.loc[Male])"
   ]
  },
  {
   "cell_type": "code",
   "execution_count": null,
   "metadata": {},
   "outputs": [],
   "source": [
    "first.head()"
   ]
  },
  {
   "cell_type": "code",
   "execution_count": null,
   "metadata": {},
   "outputs": [],
   "source": [
    "entities = ['schools & other educational organization shutdown','public places shutdown',\n",
    "            'work from home started for employees','country under lockdown','current situation']\n",
    "dates = ['2020-03-10','2020-03-13','2020-03-16','2020-03-21','2020-03-26']"
   ]
  },
  {
   "cell_type": "code",
   "execution_count": null,
   "metadata": {},
   "outputs": [],
   "source": [
    "data = data.sort_values(by=\"diagnosed_date\")"
   ]
  },
  {
   "cell_type": "code",
   "execution_count": null,
   "metadata": {},
   "outputs": [],
   "source": [
    "mask1 = (data['diagnosed_date'] > '2020-01-30') & (data['diagnosed_date'] <= '2020-03-09') # before school lockdown\n",
    "mask1 = len(data.loc[mask1])\n",
    "mask2 = (data['diagnosed_date'] > '2020-01-30') & (data['diagnosed_date'] <= '2020-03-12') #before public place shutdown\n",
    "mask2 = len(data.loc[mask2])\n",
    "mask3 = (data['diagnosed_date'] > '2020-01-30') & (data['diagnosed_date'] <= '2020-03-15') # beforw wfh\n",
    "mask3 = len(data.loc[mask3])\n",
    "mask4 = (data['diagnosed_date'] > '2020-01-30') & (data['diagnosed_date'] <= '2020-03-21') # beforw lookdown\n",
    "mask4 = len(data.loc[mask4])\n",
    "mask5 = (data['diagnosed_date'] > '2020-01-30') & (data['diagnosed_date'] <= '2020-03-26') # beforw lookdown\n",
    "mask5 = len(data.loc[mask5])\n"
   ]
  },
  {
   "cell_type": "code",
   "execution_count": null,
   "metadata": {},
   "outputs": [],
   "source": [
    "case_counts = [mask1, mask2,mask3,mask4,mask5]"
   ]
  },
  {
   "cell_type": "code",
   "execution_count": null,
   "metadata": {},
   "outputs": [],
   "source": [
    "plot_data = pd.DataFrame({'dates':dates,'counts':case_counts,'entities': entities})"
   ]
  },
  {
   "cell_type": "code",
   "execution_count": null,
   "metadata": {},
   "outputs": [],
   "source": [
    "plot_data"
   ]
  },
  {
   "cell_type": "code",
   "execution_count": null,
   "metadata": {},
   "outputs": [],
   "source": [
    "plot_data['dates'] = pd.to_datetime(plot_data['dates'])"
   ]
  },
  {
   "cell_type": "code",
   "execution_count": null,
   "metadata": {},
   "outputs": [],
   "source": [
    "fig, ax = plt.subplots(figsize = (10,6))\n",
    "labels = entities\n",
    "plt.rcParams['font.sans-serif'] = 'Arial'\n",
    "plt.rcParams['font.family'] = 'sans-serif'\n",
    "plt.rcParams['text.color'] = 'black'\n",
    "plt.rcParams['axes.labelcolor']= '#909090'\n",
    "plt.rcParams['xtick.color'] = 'black'\n",
    "plt.rcParams['ytick.color'] = 'black'\n",
    "plt.rcParams['font.size']=14\n",
    "color_palette_list = ['#009ACD', '#ADD8E6', '#63D1F4', '#0EBFE9',   \n",
    "                      '#C1F0F6', '#0099CC']\n",
    "percentages = case_counts\n",
    "explode=(0.1,0.1,0.1,0,0)\n",
    "ax.pie(percentages, explode=explode, labels=labels,  \n",
    "       colors=color_palette_list[0:2], autopct='%1.0f%%', \n",
    "       shadow=False, startangle=0,   \n",
    "       pctdistance=1.2,labeldistance=1.4)\n",
    "ax.axis('equal')\n",
    "ax.legend(frameon=False, bbox_to_anchor=(0.0,0.8))"
   ]
  },
  {
   "cell_type": "code",
   "execution_count": null,
   "metadata": {},
   "outputs": [],
   "source": [
    "fig, ax = plt.subplots(figsize=(10,8))\n",
    "plt.hlines(y=plot_data.entities, xmin=0, xmax=plot_data.counts, color='red')\n",
    "plt.plot(plot_data.counts, plot_data.entities, \"D\")\n",
    "# Add titles and axis names\n",
    "ax.xaxis.label.set_color('black')\n",
    "plt.yticks(plot_data.entities)\n",
    "plt.title(\"Case Count Growth Rate After Lockdown\")\n",
    "plt.xlabel('Covid19 Case Count', fontsize=10)"
   ]
  },
  {
   "cell_type": "code",
   "execution_count": null,
   "metadata": {},
   "outputs": [],
   "source": [
    "data.groupby(['detected_state','gender'])[['gender']].size().unstack().plot(kind='barh',figsize=(15,10))"
   ]
  },
  {
   "cell_type": "code",
   "execution_count": null,
   "metadata": {},
   "outputs": [],
   "source": [
    "cor = df.corr()"
   ]
  },
  {
   "cell_type": "code",
   "execution_count": null,
   "metadata": {},
   "outputs": [],
   "source": [
    "sns.heatmap(cor,annot = True)"
   ]
  }
 ],
 "metadata": {
  "kernelspec": {
   "display_name": "Python 3",
   "language": "python",
   "name": "python3"
  },
  "language_info": {
   "codemirror_mode": {
    "name": "ipython",
    "version": 3
   },
   "file_extension": ".py",
   "mimetype": "text/x-python",
   "name": "python",
   "nbconvert_exporter": "python",
   "pygments_lexer": "ipython3",
   "version": "3.7.4"
  }
 },
 "nbformat": 4,
 "nbformat_minor": 4
}
