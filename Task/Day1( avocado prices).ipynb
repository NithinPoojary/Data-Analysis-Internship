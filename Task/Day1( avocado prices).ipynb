{
 "cells": [
  {
   "cell_type": "code",
   "execution_count": 1,
   "metadata": {},
   "outputs": [
    {
     "data": {
      "text/plain": [
       "<matplotlib.axes._subplots.AxesSubplot at 0x7efc9f0>"
      ]
     },
     "execution_count": 1,
     "metadata": {},
     "output_type": "execute_result"
    }
   ],
   "source": [
    "import pandas as pd\n",
    "df= pd.read_csv(\"avocado.csv\")\n",
    "\n",
    "df\n",
    "\n",
    "df.head()\n",
    "\n",
    "df.head(3)\n",
    "\n",
    "df.tail(6)\n",
    "\n",
    "df[\"AveragePrice\"].head()\n",
    "\n",
    "df.AveragePrice.head()\n",
    "\n",
    "import matplotlib.pyplot as plt\n",
    "albany_df=df[df[\"region\"]==\"Albany\"]\n",
    "\n",
    "albany_df.head()\n",
    "\n",
    "albany_df.index\n",
    "\n",
    "albany_df.set_index(\"Date\")\n",
    "\n",
    "albany_df.head()\n",
    "\n",
    "albany_df[\"AveragePrice\"].plot()"
   ]
  }
 ],
 "metadata": {
  "kernelspec": {
   "display_name": "Python 3",
   "language": "python",
   "name": "python3"
  },
  "language_info": {
   "codemirror_mode": {
    "name": "ipython",
    "version": 3
   },
   "file_extension": ".py",
   "mimetype": "text/x-python",
   "name": "python",
   "nbconvert_exporter": "python",
   "pygments_lexer": "ipython3",
   "version": "3.7.4"
  }
 },
 "nbformat": 4,
 "nbformat_minor": 4
}
